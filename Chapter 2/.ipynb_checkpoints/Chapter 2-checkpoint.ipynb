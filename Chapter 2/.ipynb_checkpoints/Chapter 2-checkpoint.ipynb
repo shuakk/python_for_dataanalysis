{
 "cells": [
  {
   "cell_type": "code",
   "execution_count": 1,
   "metadata": {
    "collapsed": false
   },
   "outputs": [
    {
     "name": "stdout",
     "output_type": "stream",
     "text": [
      "Hello World\n"
     ]
    }
   ],
   "source": [
    "print (\"Hello World\")"
   ]
  },
  {
   "cell_type": "markdown",
   "metadata": {},
   "source": [
    "## Title 2"
   ]
  },
  {
   "cell_type": "markdown",
   "metadata": {
    "collapsed": true
   },
   "source": [
    "### Title 3"
   ]
  },
  {
   "cell_type": "code",
   "execution_count": null,
   "metadata": {
    "collapsed": true
   },
   "outputs": [],
   "source": [
    "Keyboard Short Cut:\n",
    "\n",
    "    https://www.dataquest.io/blog/jupyter-notebook-tips-tricks-shortcuts/"
   ]
  },
  {
   "cell_type": "code",
   "execution_count": 4,
   "metadata": {
    "collapsed": false
   },
   "outputs": [
    {
     "data": {
      "text/plain": [
       "{0: -0.9455432242302759,\n",
       " 1: -0.7428886562650322,\n",
       " 2: -0.2812665771933069,\n",
       " 3: 2.494606877126915,\n",
       " 4: 2.1150740016773777,\n",
       " 5: 1.078548799152708,\n",
       " 6: 1.206670689805262}"
      ]
     },
     "execution_count": 4,
     "metadata": {},
     "output_type": "execute_result"
    }
   ],
   "source": [
    "import numpy as np\n",
    "data = {i: np.random.randn() for i in range(7)}\n",
    "data"
   ]
  },
  {
   "cell_type": "code",
   "execution_count": 1,
   "metadata": {
    "collapsed": false
   },
   "outputs": [
    {
     "data": {
      "text/plain": [
       "'/Users/KK/Documents/Python for DA/Chapter 2'"
      ]
     },
     "execution_count": 1,
     "metadata": {},
     "output_type": "execute_result"
    }
   ],
   "source": [
    "%pwd"
   ]
  },
  {
   "cell_type": "code",
   "execution_count": 2,
   "metadata": {
    "collapsed": false
   },
   "outputs": [
    {
     "name": "stdout",
     "output_type": "stream",
     "text": [
      "Chapter 2.ipynb   looker_users.txt\r\n"
     ]
    }
   ],
   "source": [
    "%ls"
   ]
  },
  {
   "cell_type": "code",
   "execution_count": 9,
   "metadata": {
    "collapsed": false
   },
   "outputs": [
    {
     "data": {
      "text/plain": [
       "'924~blambert@hubspot.com~ Lambert~Brittany~1, 4~12\\n'"
      ]
     },
     "execution_count": 9,
     "metadata": {},
     "output_type": "execute_result"
    }
   ],
   "source": [
    "import json\n",
    "#print(path)\n",
    "open('looker_users.txt').readline()"
   ]
  },
  {
   "cell_type": "code",
   "execution_count": 13,
   "metadata": {
    "collapsed": false
   },
   "outputs": [],
   "source": [
    "#records = [json.loads(line) for line in open('looker_users.txt')]\n",
    "records = open('looker_users.txt')\n",
    "#records[:5]"
   ]
  },
  {
   "cell_type": "code",
   "execution_count": 15,
   "metadata": {
    "collapsed": false
   },
   "outputs": [
    {
     "name": "stdout",
     "output_type": "stream",
     "text": [
      "924~blambert@hubspot.com~ Lambert~Brittany~1, 4~12\n",
      "\n",
      "1078~dabbey@hubspot.com~Abbey~Denise~1, 4~12\n",
      "\n",
      "527~mabondano@hubspot.com~Abondano~Mateo~1, 4~12\n",
      "\n",
      "323~mabreu@hubspot.com~Abreu~Melissa~1, 4~12\n",
      "\n",
      "982~cacree@hubspot.com~Acree~Christopher~1, 4~12\n",
      "\n",
      "1001~dadamczyk@hubspot.com~Adamczyk~Darek~1, 4~12\n",
      "\n",
      "106~dadams@hubspot.com~Adams~David~1, 4~12\n",
      "\n",
      "757~padams@hubspot.com~Adams~Perin~1, 4~12\n",
      "\n",
      "1140~eagrodnia@hubspot.com~Agrodnia~Erica~1, 4~12\n",
      "\n",
      "545~naguettant@hubspot.com~Aguettant~NoEmie~1, 4~12\n",
      "\n"
     ]
    }
   ],
   "source": [
    "i = 0\n",
    "for line in records:\n",
    "    if i < 10:\n",
    "        print(line)\n",
    "        i += 1\n",
    "    else:\n",
    "        break\n"
   ]
  },
  {
   "cell_type": "code",
   "execution_count": 17,
   "metadata": {
    "collapsed": true
   },
   "outputs": [],
   "source": []
  },
  {
   "cell_type": "code",
   "execution_count": 24,
   "metadata": {
    "collapsed": false
   },
   "outputs": [
    {
     "data": {
      "text/plain": [
       "datetime.datetime(2018, 8, 24, 14, 22, 43, 959247)"
      ]
     },
     "execution_count": 24,
     "metadata": {},
     "output_type": "execute_result"
    }
   ],
   "source": [
    "import datetime \n",
    "dt = datetime.datetime.today()\n",
    "dt"
   ]
  },
  {
   "cell_type": "code",
   "execution_count": 27,
   "metadata": {
    "collapsed": false
   },
   "outputs": [
    {
     "data": {
      "text/plain": [
       "'2018-08-24'"
      ]
     },
     "execution_count": 27,
     "metadata": {},
     "output_type": "execute_result"
    }
   ],
   "source": [
    "dt.strftime('%Y-%m-%d')"
   ]
  }
 ],
 "metadata": {
  "anaconda-cloud": {},
  "kernelspec": {
   "display_name": "Python 3",
   "language": "python",
   "name": "python3"
  },
  "language_info": {
   "codemirror_mode": {
    "name": "ipython",
    "version": 3
   },
   "file_extension": ".py",
   "mimetype": "text/x-python",
   "name": "python",
   "nbconvert_exporter": "python",
   "pygments_lexer": "ipython3",
   "version": "3.5.2"
  }
 },
 "nbformat": 4,
 "nbformat_minor": 1
}
